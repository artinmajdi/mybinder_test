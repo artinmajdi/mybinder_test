{
 "cells": [
  {
   "cell_type": "code",
   "execution_count": 1,
   "id": "9d860d0c",
   "metadata": {
    "execution": {
     "iopub.execute_input": "2022-04-14T18:31:57.896745Z",
     "iopub.status.busy": "2022-04-14T18:31:57.896116Z",
     "iopub.status.idle": "2022-04-14T18:31:57.906301Z",
     "shell.execute_reply": "2022-04-14T18:31:57.905659Z"
    },
    "papermill": {
     "duration": 0.019316,
     "end_time": "2022-04-14T18:31:57.908911",
     "exception": false,
     "start_time": "2022-04-14T18:31:57.889595",
     "status": "completed"
    },
    "tags": []
   },
   "outputs": [],
   "source": [
    "import numpy"
   ]
  },
  {
   "cell_type": "code",
   "execution_count": null,
   "id": "60a1c8ad",
   "metadata": {
    "papermill": {
     "duration": 0.004056,
     "end_time": "2022-04-14T18:31:57.917916",
     "exception": false,
     "start_time": "2022-04-14T18:31:57.913860",
     "status": "completed"
    },
    "tags": []
   },
   "outputs": [],
   "source": []
  }
 ],
 "metadata": {
  "kernelspec": {
   "display_name": "Python 3",
   "language": "python",
   "name": "python3"
  },
  "language_info": {
   "codemirror_mode": {
    "name": "ipython",
    "version": 3
   },
   "file_extension": ".py",
   "mimetype": "text/x-python",
   "name": "python",
   "nbconvert_exporter": "python",
   "pygments_lexer": "ipython3",
   "version": "3.7.12"
  },
  "papermill": {
   "default_parameters": {},
   "duration": 9.301691,
   "end_time": "2022-04-14T18:31:58.542735",
   "environment_variables": {},
   "exception": null,
   "input_path": "__notebook__.ipynb",
   "output_path": "__notebook__.ipynb",
   "parameters": {},
   "start_time": "2022-04-14T18:31:49.241044",
   "version": "2.3.4"
  }
 },
 "nbformat": 4,
 "nbformat_minor": 5
}
